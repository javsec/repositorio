{
 "cells": [
  {
   "cell_type": "code",
   "execution_count": 80,
   "metadata": {},
   "outputs": [],
   "source": [
    "# Proyecto : \n",
    "# Carlos Javier Reyes\n",
    "\n",
    "# Tratamiento de datos\n",
    "# ==============================================================================\n",
    "\n",
    "from bs4 import BeautifulSoup as bs  # Lirerias para web scrapper \n",
    "import requests\n",
    "\n",
    "import pandas as pd  # Librerias para Dataset\n",
    "import numpy as np # Lbreria Numerical para computacion cientifica, analisis de datos\n",
    "\n",
    "# Preprocesado y modelado\n",
    "# ==============================================================================\n",
    "# Librerias para Algoritmos de Machine learning\n",
    "from sklearn.model_selection import train_test_split\n",
    "from sklearn.linear_model import LogisticRegression\n",
    "\n",
    "from sklearn import metrics\n",
    "from sklearn.svm import SVC\n",
    "from sklearn.neighbors import KNeighborsClassifier\n",
    "\n",
    "\n",
    "# Gráficos\n",
    "# ==============================================================================\n",
    "import matplotlib.pyplot as plt\n",
    "from matplotlib import style\n",
    "import matplotlib.ticker as ticker\n",
    "import seaborn as sns\n",
    "\n",
    "# Configuración warnings\n",
    "# ==============================================================================\n",
    "import warnings\n",
    "warnings.filterwarnings('ignore')\n",
    "\n",
    "# Configuración matplotlib\n",
    "# ==============================================================================\n",
    "plt.rcParams['image.cmap'] = \"bwr\"\n",
    "#plt.rcParams['figure.dpi'] = \"100\"\n",
    "plt.rcParams['savefig.bbox'] = \"tight\"\n",
    "style.use('ggplot') or plt.style.use('ggplot')"
   ]
  },
  {
   "cell_type": "code",
   "execution_count": 81,
   "metadata": {},
   "outputs": [
    {
     "name": "stdout",
     "output_type": "stream",
     "text": [
      "1 -Cancion:Despechá -Artista:Rosalía  -Alb:Motomami + -No:01 \n",
      "2 -Cancion:Quevedo: Bzrp music sessions Vol. 52 -Artista:Bizarrap;Quevedo  -Alb:Quevedo: Bzrp music sessions Vol. 52 -No:02 \n",
      "3 -Cancion:La bachata -Artista:Manuel Turizo  -Alb:La bachata -No:03 \n",
      "4 -Cancion:Ojos marrones -Artista:Lasso  -Alb:Ojos marrones -No:04 \n",
      "5 -Cancion:Complete mess -Artista:5 Seconds of Summer  -Alb:Complete mess -No:05 \n",
      "6 -Cancion:Tú me delatas -Artista:David Bisbal  -Alb:Tú me delatas -No:06 \n",
      "7 -Cancion:Nublado -Artista:Paulo Londra  -Alb:Nublado -No:07 \n",
      "8 -Cancion:Boca de loba -Artista:Tres Dedos  -Alb:Boca de loba -No:08 \n",
      "9 -Cancion:Late night talking -Artista:Harry Styles  -Alb:Harry's house -No:09 \n",
      "10 -Cancion:Volare -Artista:Danny Ocean  -Alb:Volare -No:10 \n",
      "11 -Cancion:TV -Artista:Sebastián Yatra  -Alb:TV -No:11 \n",
      "12 -Cancion:Fui yo -Artista:Mariana Gomez;Mía Terán  -Alb:Fui yo -No:12 \n",
      "13 -Cancion:Don't you worry -Artista:The Black Eyed Peas;David Guetta;Shakira  -Alb:Don't you worry -No:13 \n",
      "14 -Cancion:La falta -Artista:Carín León;Mike Bahía  -Alb:La falta -No:14 \n",
      "15 -Cancion:Plutón -Artista:Kenia Os;CNCO  -Alb:Plutón -No:15 \n",
      "16 -Cancion:Los cachos -Artista:Piso 21;Manuel Turizo  -Alb:Los cachos -No:16 \n",
      "17 -Cancion:Crazy what love can do -Artista:Becky Hill;David Guetta;Ella Henderson  -Alb:Crazy what love can do -No:17 \n",
      "18 -Cancion:Tóxico -Artista:Greeicy  -Alb:La carta -No:18 \n",
      "19 -Cancion:Traductor -Artista:Tiago PZK;Myke Towers  -Alb:Portales -No:19 \n",
      "20 -Cancion:Break my soul -Artista:Beyoncé  -Alb:Renaissance -No:20 \n",
      "21 -Cancion:Contigo -Artista:Pablo Alborán;Sebastián Yatra  -Alb:Contigo -No:21 \n",
      "22 -Cancion:No vuelvas más -Artista:Nikki Mackliff  -Alb:No vuelvas más -No:22 \n",
      "23 -Cancion:Perro mujeriego -Artista:Nacho  -Alb:Perro mujeriego -No:23 \n",
      "24 -Cancion:Sin novia -Artista:Nicky Jam  -Alb:Sin novia -No:24 \n",
      "25 -Cancion:Pegao -Artista:Camilo  -Alb:De adentro pa' fuera -No:25 \n",
      "26 -Cancion:Te felicito -Artista:Rauw Alejandro;Shakira  -Alb:Te felicito -No:26 \n",
      "27 -Cancion:Berlín -Artista:Maria Becerra;Zion & Lennox  -Alb:Berlín -No:27 \n",
      "28 -Cancion:Tanto tiempo -Artista:Mia Orellana  -Alb:Tanto tiempo -No:28 \n",
      "29 -Cancion:Shorty -Artista:Ren Kai  -Alb:Shorty -No:29 \n",
      "30 -Cancion:Potion -Artista:Calvin Harris;Dua Lipa;Young Thug  -Alb:Funk wav bounces Vol. 2 -No:30 \n",
      "31 -Cancion:I ain't worried -Artista:OneRepublic  -Alb:Top Gun: Maverick -No:31 \n",
      "32 -Cancion:Hasta los dientes -Artista:Camila Cabello;Maria Becerra  -Alb:Familia -No:32 \n",
      "33 -Cancion:Hold my hand -Artista:Lady GaGa  -Alb:Hold my hand -No:33 \n",
      "34 -Cancion:Better days -Artista:Mae Muller;Polo G;Neiked  -Alb:Better days -No:34 \n",
      "35 -Cancion:París -Artista:Morat;Duki  -Alb:París -No:35 \n",
      "36 -Cancion:2step -Artista:Ed Sheeran;Lil Baby  -Alb:2step -No:36 \n",
      "37 -Cancion:Borrachera -Artista:Jandino;Melfi  -Alb:Borrachera -No:37 \n",
      "38 -Cancion:Love me more -Artista:Sam Smith  -Alb:Love me more -No:38 \n",
      "39 -Cancion:About damn time -Artista:Lizzo  -Alb:Special -No:39 \n",
      "40 -Cancion:Maybe you're the problem -Artista:Ava Max  -Alb:Maybe you're the problem -No:40 \n"
     ]
    }
   ],
   "source": [
    "# Web Scrapper Top 40 canciones de Ecuador\n",
    "# ==============================================================================\n",
    "url = \"https://www.los40.com.ec/lista-los-40\"\n",
    "\n",
    "# Realizamos la petición a la web\n",
    "req = requests.get(url)\n",
    "\n",
    "# Comprobamos que la petición nos devuelve un Status Code = 200\n",
    "status_code = req.status_code\n",
    "if status_code == 200:\n",
    "\n",
    "    # Pasamos el contenido HTML de la web a un objeto BeautifulSoup()\n",
    "    html = bs(req.text, \"html.parser\")\n",
    "\n",
    "    # Obtenemos todos los divs donde están las entradas\n",
    "    entradas = html.find_all('div', {'class': 'item-list'})\n",
    "\n",
    "    # Recorremos todas las entradas para extraer el título, autor y fecha\n",
    "    for i, entrada in enumerate(entradas):\n",
    "        # Con el método \"getText()\" no nos devuelve el HTML\n",
    "        titulo = entrada.find('div', {'class': 'title'}).getText()\n",
    "        autor =  entrada.find('div', {'class': 'author'}).getText()\n",
    "        album =  entrada.find('div', {'class': 'albun'}).getText()\n",
    "        numero =  entrada.find('div', {'class': 'number'}).getText()\n",
    "        # Imprimo el Título, Autor , Album y Puesto cancion\n",
    "        print (\"%d -Cancion:%s -Artista:%s  -Alb:%s -No:%s \" % (i +1, titulo, autor, album,numero))\n",
    "        \n",
    "else:\n",
    "    print (\"Status Code %d\" % status_code)"
   ]
  },
  {
   "cell_type": "code",
   "execution_count": 116,
   "metadata": {},
   "outputs": [
    {
     "name": "stdout",
     "output_type": "stream",
     "text": [
      "Cantidad de datos:\n",
      "(891, 12)\n",
      "(418, 11)\n",
      "Tipos de datos:\n",
      "<class 'pandas.core.frame.DataFrame'>\n",
      "RangeIndex: 891 entries, 0 to 890\n",
      "Data columns (total 12 columns):\n",
      " #   Column       Non-Null Count  Dtype  \n",
      "---  ------       --------------  -----  \n",
      " 0   PassengerId  891 non-null    int64  \n",
      " 1   Survived     891 non-null    int64  \n",
      " 2   Pclass       891 non-null    int64  \n",
      " 3   Name         891 non-null    object \n",
      " 4   Sex          891 non-null    object \n",
      " 5   Age          714 non-null    float64\n",
      " 6   SibSp        891 non-null    int64  \n",
      " 7   Parch        891 non-null    int64  \n",
      " 8   Ticket       891 non-null    object \n",
      " 9   Fare         891 non-null    float64\n",
      " 10  Cabin        204 non-null    object \n",
      " 11  Embarked     889 non-null    object \n",
      "dtypes: float64(2), int64(5), object(5)\n",
      "memory usage: 83.7+ KB\n",
      "None\n",
      "<class 'pandas.core.frame.DataFrame'>\n",
      "RangeIndex: 418 entries, 0 to 417\n",
      "Data columns (total 11 columns):\n",
      " #   Column       Non-Null Count  Dtype  \n",
      "---  ------       --------------  -----  \n",
      " 0   PassengerId  418 non-null    int64  \n",
      " 1   Pclass       418 non-null    int64  \n",
      " 2   Name         418 non-null    object \n",
      " 3   Sex          418 non-null    object \n",
      " 4   Age          332 non-null    float64\n",
      " 5   SibSp        418 non-null    int64  \n",
      " 6   Parch        418 non-null    int64  \n",
      " 7   Ticket       418 non-null    object \n",
      " 8   Fare         417 non-null    float64\n",
      " 9   Cabin        91 non-null     object \n",
      " 10  Embarked     418 non-null    object \n",
      "dtypes: float64(2), int64(4), object(5)\n",
      "memory usage: 36.0+ KB\n",
      "None\n"
     ]
    },
    {
     "data": {
      "image/png": "[encoded data removed]",
      "text/plain": [
       "<Figure size 640x480 with 1 Axes>"
      ]
     },
     "metadata": {},
     "output_type": "display_data"
    }
   ],
   "source": [
    "# Machine Learnig: Sobrivientes Titanic\n",
    "# ==============================================================================\n",
    "# DataSet \n",
    "# cargar datos desde archivo de la pc\n",
    "df_test = pd.read_csv(\"E:\\\\maestria\\\\dataset\\\\titanictest.csv\")\n",
    "df_train = pd.read_csv(\"E:\\\\maestria\\\\dataset\\\\titanictrain.csv\")\n",
    "\n",
    "# Descripción de los campos\n",
    "# ==============================================================================\n",
    "# PassengerId: Identificador del pasajero dentro de la tabla\n",
    "# Survived: Indica si el pasajero sobrevivió\n",
    "# Pclass: clase de pasajero primera(1), segunda (2) o tercera (3)\n",
    "# Name: Nombre del pasajero\n",
    "# Sex: Sexo del pasajero\n",
    "# Age: Edad\n",
    "# SibSp: Cantidad de hermanas/os o esposas/os a bordo\n",
    "# Parch: Cantidad de padres o hijos a bordo\n",
    "# Ticket: Número de ticket\n",
    "# Fare: Tarifa\n",
    "# Cabin: Cabina en la cual se encuentra alojado el pasajero\n",
    "# Embarked: Puerta de embarque\n",
    "\n",
    "\n",
    "\n",
    "# Dimensiones del dataset\n",
    "# ==============================================================================\n",
    "# Conocer/Verificar cantidad de datos Filas y Columnas de los datasets\n",
    "\n",
    "\n",
    "print('Cantidad de datos:')\n",
    "print(df_train.shape) # para saber Fil y Col del DataSet  891 filas y tiene campo Survived por lo q usaremos algoritmo de supervision\n",
    "print(df_test.shape)  # para saber Fil y Col del DataSet  418 filas y no tiene campo Survived\n",
    "\n",
    "#Verifico el tipo de datos contenida en ambos dataset\n",
    "print('Tipos de datos:')\n",
    "print(df_train.info()) \n",
    "print(df_test.info())\n",
    "\n",
    "\n",
    "\n",
    "plt.title('Distribución de edades de pasajeros Train')\n",
    "plt.hist(df_train['Age'], bins = 25 , alpha = 0.5)\n",
    "plt.xlabel(\"Age\")\n",
    "plt.ylabel(\"Frecuencia\")\n",
    "plt.grid(True)\n",
    "plt.show()\n",
    "\n",
    "\n"
   ]
  },
  {
   "cell_type": "code",
   "execution_count": 127,
   "metadata": {},
   "outputs": [
    {
     "data": {
      "text/plain": [
       "Text(0.5, 1.0, 'Cantididad Sobrevivientes')"
      ]
     },
     "execution_count": 127,
     "metadata": {},
     "output_type": "execute_result"
    },
    {
     "data": {
      "image/png": "[encoded data removed]",
      "text/plain": [
       "<Figure size 1800x800 with 2 Axes>"
      ]
     },
     "metadata": {},
     "output_type": "display_data"
    }
   ],
   "source": [
    "f , ax = plt.subplots (1,2, figsize = (18,8))\n",
    "\n",
    "df_train['Survived'].value_counts().plot.pie(autopct = '%1.1f%%',ax = ax[0],explode = [0,0.1],shadow = True)\n",
    "ax[0].set_title('Sobrevivientes')\n",
    "sns.countplot(x ='Sex',hue = 'Survived', data =df_train, ax = ax[1])\n",
    "ax[1].set_title('Cantididad Sobrevivientes')\n",
    "\n"
   ]
  },
  {
   "cell_type": "code",
   "execution_count": 128,
   "metadata": {},
   "outputs": [
    {
     "data": {
      "text/plain": [
       "<AxesSubplot:>"
      ]
     },
     "execution_count": 128,
     "metadata": {},
     "output_type": "execute_result"
    },
    {
     "data": {
      "image/png": "[encoded data removed]",
      "text/plain": [
       "<Figure size 640x480 with 2 Axes>"
      ]
     },
     "metadata": {},
     "output_type": "display_data"
    }
   ],
   "source": [
    "# Podemos ver con este mapa como se correlacionan las variables siendo los mas pscuros los que tienen relacion\n",
    "sns.heatmap(df_train.corr(),cmap=\"YlGnBu\")"
   ]
  },
  {
   "cell_type": "code",
   "execution_count": 83,
   "metadata": {},
   "outputs": [
    {
     "name": "stdout",
     "output_type": "stream",
     "text": [
      "Datos faltantes:\n",
      "PassengerId      0\n",
      "Survived         0\n",
      "Pclass           0\n",
      "Name             0\n",
      "Sex              0\n",
      "SibSp            0\n",
      "Parch            0\n",
      "Ticket           0\n",
      "Fare             0\n",
      "Embarked         2\n",
      "Age            177\n",
      "Cabin          687\n",
      "dtype: int64\n",
      "PassengerId      0\n",
      "Pclass           0\n",
      "Name             0\n",
      "Sex              0\n",
      "SibSp            0\n",
      "Parch            0\n",
      "Ticket           0\n",
      "Embarked         0\n",
      "Fare             1\n",
      "Age             86\n",
      "Cabin          327\n",
      "dtype: int64\n"
     ]
    }
   ],
   "source": [
    "#Verifico los datos faltantes de los dataset\n",
    "print('Datos faltantes:')\n",
    "print(pd.isnull(df_train).sum().sort_values())\n",
    "print(pd.isnull(df_test).sum().sort_values())\n"
   ]
  },
  {
   "cell_type": "code",
   "execution_count": 84,
   "metadata": {},
   "outputs": [
    {
     "name": "stdout",
     "output_type": "stream",
     "text": [
      "Estadísticas del dataset:\n",
      "       PassengerId    Survived      Pclass         Age       SibSp  \\\n",
      "count   891.000000  891.000000  891.000000  714.000000  891.000000   \n",
      "mean    446.000000    0.383838    2.308642   29.699118    0.523008   \n",
      "std     257.353842    0.486592    0.836071   14.526497    1.102743   \n",
      "min       1.000000    0.000000    1.000000    0.420000    0.000000   \n",
      "25%     223.500000    0.000000    2.000000   20.125000    0.000000   \n",
      "50%     446.000000    0.000000    3.000000   28.000000    0.000000   \n",
      "75%     668.500000    1.000000    3.000000   38.000000    1.000000   \n",
      "max     891.000000    1.000000    3.000000   80.000000    8.000000   \n",
      "\n",
      "            Parch        Fare  \n",
      "count  891.000000  891.000000  \n",
      "mean     0.381594   32.204208  \n",
      "std      0.806057   49.693429  \n",
      "min      0.000000    0.000000  \n",
      "25%      0.000000    7.910400  \n",
      "50%      0.000000   14.454200  \n",
      "75%      0.000000   31.000000  \n",
      "max      6.000000  512.329200  \n",
      "       PassengerId      Pclass         Age       SibSp       Parch        Fare\n",
      "count   418.000000  418.000000  332.000000  418.000000  418.000000  417.000000\n",
      "mean   1100.500000    2.265550   30.272590    0.447368    0.392344   35.627188\n",
      "std     120.810458    0.841838   14.181209    0.896760    0.981429   55.907576\n",
      "min     892.000000    1.000000    0.170000    0.000000    0.000000    0.000000\n",
      "25%     996.250000    1.000000   21.000000    0.000000    0.000000    7.895800\n",
      "50%    1100.500000    3.000000   27.000000    0.000000    0.000000   14.454200\n",
      "75%    1204.750000    3.000000   39.000000    1.000000    0.000000   31.500000\n",
      "max    1309.000000    3.000000   76.000000    8.000000    9.000000  512.329200\n"
     ]
    }
   ],
   "source": [
    "#Verifico las estadísticas del dataset\n",
    "print('Estadísticas del dataset:')\n",
    "print(df_train.describe())\n",
    "print(df_test.describe())"
   ]
  },
  {
   "cell_type": "code",
   "execution_count": 85,
   "metadata": {},
   "outputs": [
    {
     "name": "stdout",
     "output_type": "stream",
     "text": [
      "29.69911764705882\n",
      "30.272590361445783\n"
     ]
    }
   ],
   "source": [
    "# Preprocesado de datos: \n",
    "# ==============================================================================\n",
    "# Aplicar transformaciones necesarias para que los datos puedan ser interpretados por el algoritmo de machine learning \n",
    "\n",
    "# Verificamos estos campos deben ser numeros\n",
    "# Pclass: clase de pasajero primera(1), segunda (2) o tercera (3)\n",
    "# Age: Edad\n",
    "# Sex: Sexo del pasajero\n",
    "# Survived: Indica si el pasajero sobrevivió\n",
    "\n",
    "\n",
    "#Cambio los datos de sexos en números\n",
    "df_train['Sex'].replace(['female','male'],[0,1],inplace=True)\n",
    "df_test['Sex'].replace(['female','male'],[0,1],inplace=True)\n",
    "\n",
    "#Cambio los datos de embarque en números\n",
    "df_train['Embarked'].replace(['Q','S', 'C'],[0,1,2],inplace=True)\n",
    "df_test['Embarked'].replace(['Q','S', 'C'],[0,1,2],inplace=True)\n",
    "\n",
    "#Reemplazo los datos faltantes en la edad por la media de esta columna\n",
    "print(df_train[\"Age\"].mean())\n",
    "print(df_test[\"Age\"].mean())\n",
    "promedio = 30\n",
    "df_train['Age'] = df_train['Age'].replace(np.nan, promedio)\n",
    "df_test['Age'] = df_test['Age'].replace(np.nan, promedio)\n",
    "\n",
    "#ddf_train['Age'].fillna(df_train['Age'].mean,inplace = True)\n",
    "#ddf_test['Age'].fillna(df_test['Age'].mean,inplace = True)\n",
    "\n"
   ]
  },
  {
   "cell_type": "code",
   "execution_count": 86,
   "metadata": {},
   "outputs": [],
   "source": [
    "#Creo varios grupos de acuerdo a bandas de las edades\n",
    "#Bandas: 0-8, 9-15, 16-18, 19-25, 26-40, 41-60, 61-100\n",
    "bins = [0, 8, 15, 18, 25, 40, 60, 100]\n",
    "names = ['1', '2', '3', '4', '5', '6', '7']\n",
    "df_train['Age'] = pd.cut(df_train['Age'], bins, labels = names)\n",
    "df_test['Age'] = pd.cut(df_test['Age'], bins, labels = names)\n",
    "df_test['Age'] = df_test['Age'].apply(np.int64)\n",
    "\n",
    "\n",
    "\n"
   ]
  },
  {
   "cell_type": "code",
   "execution_count": 87,
   "metadata": {},
   "outputs": [],
   "source": [
    "#Se elimina la columna de \"Cabin\" ya que tiene muchos datos perdidos\n",
    "df_train.drop(['Cabin'], axis = 1, inplace=True)\n",
    "df_test.drop(['Cabin'], axis = 1, inplace=True)\n",
    "#Se Elimina columnas que no tienen peso para el analisis\n",
    "df_train = df_train.drop(['PassengerId','Name','Ticket'], axis=1)\n",
    "df_test = df_test.drop(['Name','Ticket'], axis=1)\n",
    "#Se elimina las filas con los datos perdidos\n",
    "df_train.dropna(axis=0, how='any', inplace=True)\n",
    "df_test.dropna(axis=0, how='any', inplace=True)"
   ]
  },
  {
   "cell_type": "code",
   "execution_count": 88,
   "metadata": {},
   "outputs": [
    {
     "name": "stdout",
     "output_type": "stream",
     "text": [
      "Survived    0\n",
      "Pclass      0\n",
      "Sex         0\n",
      "Age         0\n",
      "SibSp       0\n",
      "Parch       0\n",
      "Fare        0\n",
      "Embarked    0\n",
      "dtype: int64\n",
      "PassengerId    0\n",
      "Pclass         0\n",
      "Sex            0\n",
      "Age            0\n",
      "SibSp          0\n",
      "Parch          0\n",
      "Fare           0\n",
      "Embarked       0\n",
      "dtype: int64\n"
     ]
    }
   ],
   "source": [
    "#Verifico los datos\n",
    "print(pd.isnull(df_train).sum())\n",
    "print(pd.isnull(df_test).sum())"
   ]
  },
  {
   "cell_type": "code",
   "execution_count": 89,
   "metadata": {},
   "outputs": [
    {
     "name": "stdout",
     "output_type": "stream",
     "text": [
      "(889, 8)\n",
      "(417, 8)\n",
      "   PassengerId  Pclass  Sex Age  SibSp  Parch     Fare  Embarked\n",
      "0          892       3    1   5      0      0   7.8292         0\n",
      "1          893       3    0   6      1      0   7.0000         1\n",
      "2          894       2    1   7      0      0   9.6875         0\n",
      "3          895       3    1   5      0      0   8.6625         1\n",
      "4          896       3    0   4      1      1  12.2875         1\n",
      "   Survived  Pclass  Sex Age  SibSp  Parch     Fare  Embarked\n",
      "0         0       3    1   4      1      0   7.2500       1.0\n",
      "1         1       1    0   5      1      0  71.2833       2.0\n",
      "2         1       3    0   5      0      0   7.9250       1.0\n",
      "3         1       1    0   5      1      0  53.1000       1.0\n",
      "4         0       3    1   5      0      0   8.0500       1.0\n"
     ]
    }
   ],
   "source": [
    "print(df_train.shape)\n",
    "print(df_test.shape)\n",
    "print(df_test.head())\n",
    "print(df_train.head())"
   ]
  },
  {
   "cell_type": "code",
   "execution_count": 90,
   "metadata": {},
   "outputs": [],
   "source": [
    "#Separo la columna con la información de los sobrevivientes\n",
    "X = np.array(df_train.drop(['Survived'], 1)) # variables para costruir modelo\n",
    "y = np.array(df_train['Survived'])   # Resultado"
   ]
  },
  {
   "cell_type": "code",
   "execution_count": 91,
   "metadata": {},
   "outputs": [
    {
     "name": "stdout",
     "output_type": "stream",
     "text": [
      "Precisión Regresión Logística:\n",
      "0.8016877637130801\n"
     ]
    }
   ],
   "source": [
    "#Separo los datos de \"train\" en entrenamiento y prueba para probar los algoritmos\n",
    "X_train, X_test, y_train, y_test = train_test_split(X, y, test_size=0.2)\n",
    "\n",
    "# Entrenar los modelos finales con todos los datos disponibles. \n",
    "# ==============================================================================\n",
    " \n",
    "## Regresión Logística\n",
    "logreg = LogisticRegression()\n",
    "logreg.fit(X_train, y_train)\n",
    "Y_pred = logreg.predict(X_test)\n",
    "print('Precisión Regresión Logística:')\n",
    "print(logreg.score(X_train, y_train))"
   ]
  },
  {
   "cell_type": "code",
   "execution_count": 92,
   "metadata": {},
   "outputs": [
    {
     "name": "stdout",
     "output_type": "stream",
     "text": [
      "Presicion Soporte de Vectores:\n",
      "0.8016877637130801\n"
     ]
    }
   ],
   "source": [
    "# \n",
    "## Spporte de Vectores\n",
    "svc = SVC()\n",
    "svc.fit (X_train, y_train)\n",
    "Y_pred = svc.predict(X_test)\n",
    "print('Presicion Soporte de Vectores:')\n",
    "print(logreg.score(X_train, y_train))\n",
    "\n"
   ]
  },
  {
   "cell_type": "code",
   "execution_count": 93,
   "metadata": {},
   "outputs": [
    {
     "name": "stdout",
     "output_type": "stream",
     "text": [
      "Presicion Vecinos Mas cercanos:\n",
      "0.8016877637130801\n"
     ]
    }
   ],
   "source": [
    "# \n",
    "## Vecinos Mas cercanos\n",
    "\n",
    "knn = KNeighborsClassifier (n_neighbors=3)\n",
    "knn.fit (X_train, y_train)\n",
    "Y_pred = knn.predict(X_test)\n",
    "print('Presicion Vecinos Mas cercanos:')\n",
    "print(logreg.score(X_train, y_train))\n"
   ]
  },
  {
   "cell_type": "code",
   "execution_count": 94,
   "metadata": {},
   "outputs": [
    {
     "name": "stdout",
     "output_type": "stream",
     "text": [
      " Predicción Regresión Logística:\n",
      "   PassengerId  Survived\n",
      "0          892         0\n",
      "1          893         0\n",
      "2          894         0\n",
      "3          895         0\n",
      "4          896         1\n"
     ]
    }
   ],
   "source": [
    "# Una vez que entrenamos el modelo procedemos a predecir usando los modelos\n",
    "# ==============================================================================\n",
    "\n",
    "ids = df_test['PassengerId']\n",
    "\n",
    "## Regresión logística\n",
    "prediccion_logreg = logreg.predict(df_test.drop('PassengerId', axis=1))\n",
    "out_logreg = pd.DataFrame({ 'PassengerId' : ids, 'Survived': prediccion_logreg })\n",
    "print(' Predicción Regresión Logística:')\n",
    "print(out_logreg.head())"
   ]
  },
  {
   "cell_type": "code",
   "execution_count": 95,
   "metadata": {},
   "outputs": [
    {
     "name": "stdout",
     "output_type": "stream",
     "text": [
      " Predicción Soporte de Vectore:\n",
      "   PassengerId  Survived\n",
      "0          892         0\n",
      "1          893         0\n",
      "2          894         0\n",
      "3          895         0\n",
      "4          896         0\n"
     ]
    }
   ],
   "source": [
    "## Spporte de Vectores\n",
    "prediccion_logsvc = svc.predict(df_test.drop('PassengerId', axis=1))\n",
    "out_scv = pd.DataFrame({ 'PassengerId' : ids, 'Survived': prediccion_logsvc })\n",
    "print(' Predicción Soporte de Vectore:')\n",
    "print(out_scv.head())"
   ]
  },
  {
   "cell_type": "code",
   "execution_count": 99,
   "metadata": {},
   "outputs": [
    {
     "name": "stdout",
     "output_type": "stream",
     "text": [
      " Predicción Soporte de Vectore:\n",
      "   PassengerId  Survived\n",
      "0          892         0\n",
      "1          893         0\n",
      "2          894         0\n",
      "3          895         0\n",
      "4          896         1\n",
      "[0 0 0 0 1 0 1 0 1 0 0 1 1 0 0 1 0 1 1 1 1 0 1 0 1 0 0 1 1 0 0 0 1 0 1 0 0\n",
      " 0 0 0 0 1 0 1 1 0 1 0 1 1 0 0 0 1 0 0 0 0 0 1 0 1 0 1 1 0 1 0 0 1 1 0 1 0\n",
      " 1 1 0 0 1 1 1 0 1 0 0 0 1 0 1 1 0 0 1 0 0 0 1 1 1 0 1 0 0 0 0 0 0 0 0 0 0\n",
      " 1 1 1 1 0 0 1 1 1 0 0 1 0 0 1 0 1 0 0 0 0 0 0 0 0 0 1 1 0 0 1 0 0 1 0 0 0\n",
      " 1 0 1 0 1 0 0 1 1 1 1 1 1 1 0 0 1 0 0 0 0 0 0 0 0 0 1 1 1 1 1 1 1 1 0 1 0\n",
      " 1 1 0 1 0 0 1 0 1 0 1 0 0 0 1 1 1 1 0 0 1 0 0 0 0 0 0 0 1 0 1 1 1 0 0 0 1\n",
      " 0 1 0 0 1 0 1 1 1 0 0 1 0 1 1 1 0 0 1 1 0 0 1 0 0 1 0 1 0 1 0 1 0 0 0 0 0\n",
      " 0 0 1 1 0 0 0 0 0 0 1 0 1 1 0 1 0 0 0 0 0 1 1 0 1 0 0 1 0 0 0 1 0 0 1 0 1\n",
      " 0 0 0 0 0 0 0 1 1 1 1 1 0 0 1 0 1 1 1 1 0 0 0 0 0 1 1 1 0 1 1 0 0 1 1 0 1\n",
      " 0 0 1 0 1 0 0 0 1 1 0 1 1 1 0 0 0 0 0 1 1 1 1 0 0 1 0 1 0 0 1 1 0 1 1 0 0\n",
      " 1 0 0 0 1 0 0 0 0 0 0 0 1 1 1 0 0 0 0 1 0 0 0 1 1 0 1 0 0 1 0 1 0 0 1 0 1\n",
      " 1 1 1 1 0 0 1 0 0 1]\n"
     ]
    }
   ],
   "source": [
    "## Vecinos mas cercanos\n",
    "prediccion_logknn = knn.predict(df_test.drop('PassengerId', axis=1))\n",
    "out_knn = pd.DataFrame({ 'PassengerId' : ids, 'Survived': prediccion_logknn })\n",
    "print(' Predicción Soporte de Vectore:')\n",
    "print(out_knn.head())\n",
    "print (prediccion_logknn)"
   ]
  }
 ],
 "metadata": {
  "kernelspec": {
   "display_name": "Python 3.10.6 ('venv': venv)",
   "language": "python",
   "name": "python3"
  },
  "language_info": {
   "codemirror_mode": {
    "name": "ipython",
    "version": 3
   },
   "file_extension": ".py",
   "mimetype": "text/x-python",
   "name": "python",
   "nbconvert_exporter": "python",
   "pygments_lexer": "ipython3",
   "version": "3.10.6"
  },
  "orig_nbformat": 4,
  "vscode": {
   "interpreter": {
    "hash": "3c1036564c4b8913236efea31dfdad8cc7f75247bebc499b2d6b64120535d103"
   }
  }
 },
 "nbformat": 4,
 "nbformat_minor": 2
}
